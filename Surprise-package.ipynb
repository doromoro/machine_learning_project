{
 "cells": [
  {
   "cell_type": "code",
   "execution_count": 1,
   "id": "801d7bab",
   "metadata": {},
   "outputs": [
    {
     "name": "stdout",
     "output_type": "stream",
     "text": [
      "Requirement already satisfied: scikit-surprise in c:\\programdata\\anaconda3\\lib\\site-packages (1.1.3)\n",
      "Requirement already satisfied: numpy>=1.17.3 in c:\\programdata\\anaconda3\\lib\\site-packages (from scikit-surprise) (1.21.5)\n",
      "Requirement already satisfied: joblib>=1.0.0 in c:\\programdata\\anaconda3\\lib\\site-packages (from scikit-surprise) (1.1.0)\n",
      "Requirement already satisfied: scipy>=1.3.2 in c:\\programdata\\anaconda3\\lib\\site-packages (from scikit-surprise) (1.7.3)\n"
     ]
    }
   ],
   "source": [
    "!pip install scikit-surprise"
   ]
  },
  {
   "cell_type": "markdown",
   "id": "18fde05e",
   "metadata": {},
   "source": [
    "# 컨텐츠 기반 필터링"
   ]
  },
  {
   "cell_type": "code",
   "execution_count": 9,
   "id": "a13d8819",
   "metadata": {},
   "outputs": [],
   "source": [
    "from surprise import SVD\n",
    "from surprise import Dataset\n",
    "from surprise import accuracy\n",
    "from surprise.model_selection import train_test_split"
   ]
  },
  {
   "cell_type": "code",
   "execution_count": 3,
   "id": "8b738db1",
   "metadata": {},
   "outputs": [],
   "source": [
    "#os파일 데이터를 surprise데이터 세트로 로딩\n",
    "import pandas as pd\n",
    "\n",
    "ratings = pd.read_csv('../DataSet/ratings_small/ratings_small.csv')\n",
    "#인덱스와 헤더를 제거해서 새로운 파일 생성\n",
    "ratings.to_csv('../DataSet/ratings_small/sup_ratings_small.csv', index=False, header=False)"
   ]
  },
  {
   "cell_type": "code",
   "execution_count": 6,
   "id": "921f2a9f",
   "metadata": {},
   "outputs": [
    {
     "data": {
      "text/html": [
       "<div>\n",
       "<style scoped>\n",
       "    .dataframe tbody tr th:only-of-type {\n",
       "        vertical-align: middle;\n",
       "    }\n",
       "\n",
       "    .dataframe tbody tr th {\n",
       "        vertical-align: top;\n",
       "    }\n",
       "\n",
       "    .dataframe thead th {\n",
       "        text-align: right;\n",
       "    }\n",
       "</style>\n",
       "<table border=\"1\" class=\"dataframe\">\n",
       "  <thead>\n",
       "    <tr style=\"text-align: right;\">\n",
       "      <th></th>\n",
       "      <th>userId</th>\n",
       "      <th>movieId</th>\n",
       "      <th>rating</th>\n",
       "      <th>timestamp</th>\n",
       "    </tr>\n",
       "  </thead>\n",
       "  <tbody>\n",
       "    <tr>\n",
       "      <th>0</th>\n",
       "      <td>1</td>\n",
       "      <td>31</td>\n",
       "      <td>2.5</td>\n",
       "      <td>1260759144</td>\n",
       "    </tr>\n",
       "    <tr>\n",
       "      <th>1</th>\n",
       "      <td>1</td>\n",
       "      <td>1029</td>\n",
       "      <td>3.0</td>\n",
       "      <td>1260759179</td>\n",
       "    </tr>\n",
       "    <tr>\n",
       "      <th>2</th>\n",
       "      <td>1</td>\n",
       "      <td>1061</td>\n",
       "      <td>3.0</td>\n",
       "      <td>1260759182</td>\n",
       "    </tr>\n",
       "    <tr>\n",
       "      <th>3</th>\n",
       "      <td>1</td>\n",
       "      <td>1129</td>\n",
       "      <td>2.0</td>\n",
       "      <td>1260759185</td>\n",
       "    </tr>\n",
       "    <tr>\n",
       "      <th>4</th>\n",
       "      <td>1</td>\n",
       "      <td>1172</td>\n",
       "      <td>4.0</td>\n",
       "      <td>1260759205</td>\n",
       "    </tr>\n",
       "    <tr>\n",
       "      <th>...</th>\n",
       "      <td>...</td>\n",
       "      <td>...</td>\n",
       "      <td>...</td>\n",
       "      <td>...</td>\n",
       "    </tr>\n",
       "    <tr>\n",
       "      <th>99999</th>\n",
       "      <td>671</td>\n",
       "      <td>6268</td>\n",
       "      <td>2.5</td>\n",
       "      <td>1065579370</td>\n",
       "    </tr>\n",
       "    <tr>\n",
       "      <th>100000</th>\n",
       "      <td>671</td>\n",
       "      <td>6269</td>\n",
       "      <td>4.0</td>\n",
       "      <td>1065149201</td>\n",
       "    </tr>\n",
       "    <tr>\n",
       "      <th>100001</th>\n",
       "      <td>671</td>\n",
       "      <td>6365</td>\n",
       "      <td>4.0</td>\n",
       "      <td>1070940363</td>\n",
       "    </tr>\n",
       "    <tr>\n",
       "      <th>100002</th>\n",
       "      <td>671</td>\n",
       "      <td>6385</td>\n",
       "      <td>2.5</td>\n",
       "      <td>1070979663</td>\n",
       "    </tr>\n",
       "    <tr>\n",
       "      <th>100003</th>\n",
       "      <td>671</td>\n",
       "      <td>6565</td>\n",
       "      <td>3.5</td>\n",
       "      <td>1074784724</td>\n",
       "    </tr>\n",
       "  </tbody>\n",
       "</table>\n",
       "<p>100004 rows × 4 columns</p>\n",
       "</div>"
      ],
      "text/plain": [
       "        userId  movieId  rating   timestamp\n",
       "0            1       31     2.5  1260759144\n",
       "1            1     1029     3.0  1260759179\n",
       "2            1     1061     3.0  1260759182\n",
       "3            1     1129     2.0  1260759185\n",
       "4            1     1172     4.0  1260759205\n",
       "...        ...      ...     ...         ...\n",
       "99999      671     6268     2.5  1065579370\n",
       "100000     671     6269     4.0  1065149201\n",
       "100001     671     6365     4.0  1070940363\n",
       "100002     671     6385     2.5  1070979663\n",
       "100003     671     6565     3.5  1074784724\n",
       "\n",
       "[100004 rows x 4 columns]"
      ]
     },
     "execution_count": 6,
     "metadata": {},
     "output_type": "execute_result"
    }
   ],
   "source": [
    "ratings"
   ]
  },
  {
   "cell_type": "code",
   "execution_count": 8,
   "id": "3847d173",
   "metadata": {},
   "outputs": [],
   "source": [
    "#reader클래스에 어떤 데이터인지 알려줌\n",
    "from surprise import Reader\n",
    "from surprise import Dataset\n",
    "\n",
    "#line_format은 어떤 칼럼들이 있는지, sep은 무엇으로 구분되어있는지, 평점의 단위는 최소 0.5 최대 5\n",
    "reader = Reader(line_format='user item rating timestamp', sep=',', rating_scale=(0.5,5.0))\n",
    "#reader를 통해 파싱하면서 로딩(3개의 칼럼만 로딩되므로 timestamp는 자동으로 제외)\n",
    "data=Dataset.load_from_file('../DataSet/ratings_small/sup_ratings_small.csv', reader=reader)"
   ]
  },
  {
   "cell_type": "code",
   "execution_count": 10,
   "id": "156621f4",
   "metadata": {},
   "outputs": [
    {
     "name": "stdout",
     "output_type": "stream",
     "text": [
      "RMSE: 0.8908\n"
     ]
    },
    {
     "data": {
      "text/plain": [
       "0.8907754769926038"
      ]
     },
     "execution_count": 10,
     "metadata": {},
     "output_type": "execute_result"
    }
   ],
   "source": [
    "#SVD행렬 분해 기법을 통해서 추천 예측, 잠재 요인 크기 K값을 나타내는 n_factors는 50으로 설정\n",
    "\n",
    "#수행 시마다 동일하게 데이터를 분할하기 위해 random_state값 부여\n",
    "trainset, testset = train_test_split(data, test_size=.25, random_state=0)\n",
    "\n",
    "#수행 시마다 동일한 결과를 도출하기 위해 random_state 설정\n",
    "algo = SVD(n_factors=50, random_state=0)\n",
    "\n",
    "#학습 데이터 세트로 학습하고 나서 테스트 데이터 세트로 평점 예측 후 RMSE 평가\n",
    "algo.fit(trainset)\n",
    "predictions = algo.test(testset)\n",
    "accuracy.rmse(predictions)"
   ]
  },
  {
   "cell_type": "code",
   "execution_count": 11,
   "id": "a08f8657",
   "metadata": {},
   "outputs": [
    {
     "name": "stdout",
     "output_type": "stream",
     "text": [
      "prediction 결과의 최초 5개 추출\n"
     ]
    },
    {
     "data": {
      "text/plain": [
       "[Prediction(uid='30', iid='254', r_ui=3.0, est=3.7092901755922996, details={'was_impossible': False}),\n",
       " Prediction(uid='652', iid='2626', r_ui=5.0, est=4.172573234363497, details={'was_impossible': False}),\n",
       " Prediction(uid='466', iid='2174', r_ui=3.0, est=3.673029601193435, details={'was_impossible': False}),\n",
       " Prediction(uid='561', iid='3438', r_ui=4.5, est=3.1203161578977214, details={'was_impossible': False}),\n",
       " Prediction(uid='529', iid='34552', r_ui=4.0, est=3.407430180522673, details={'was_impossible': False})]"
      ]
     },
     "execution_count": 11,
     "metadata": {},
     "output_type": "execute_result"
    }
   ],
   "source": [
    "print('prediction 결과의 최초 5개 추출')\n",
    "predictions[:5]"
   ]
  },
  {
   "cell_type": "markdown",
   "id": "cc4c283e",
   "metadata": {},
   "source": [
    "Surprise패키지의 predict()메서드를 통해서 추천 예측을 해보겠습니다. predict()는 개별 사용자의 아이템에 대한 추천 평점을 예측하는데 개별 사용자 아이디, 아이템 아이디를 입력하면 추천 예측 평점을 포함한 정보를 반환합니다.\n",
    "주의할 점은 기존 평점 정보(r_ui)는 선택 사항이며 사용자 아이디, 아이템 아이디는 문자열로 입력해야 합니다."
   ]
  },
  {
   "cell_type": "code",
   "execution_count": 12,
   "id": "b674ccf6",
   "metadata": {},
   "outputs": [
    {
     "name": "stdout",
     "output_type": "stream",
     "text": [
      "user: 196        item: 302        r_ui = None   est = 3.81   {'was_impossible': False}\n"
     ]
    }
   ],
   "source": [
    "uid = str(196)\n",
    "iid = str(302)\n",
    "pred = algo.predict(uid,iid)\n",
    "print(pred)"
   ]
  },
  {
   "cell_type": "markdown",
   "id": "929ded53",
   "metadata": {},
   "source": [
    "surprise에서 각각의 알고리즘에 따른 RMSE,MAE,TIME에 대한 정보들이 있습니다.( http://surpriselib.com/ )\n",
    "위에서 사용한 SVD를 한번 살펴보면 SVD의 비용함수는 사용자 베이스라인 편향성을 감안한 평점 예측에 Regularization을 적용한 것입니다.\n",
    "지원하는 알고리즘들 보면 SVD++알고리즘의 RMSE,MAE성적이 가장 좋지만 시간이 상대적으로 오래걸려 데이터가 많이 클 경우 사용하기 어려운 알고리즘으로 보입니다. SVD++를 제외하면 SVD와 k-NN Baselind이 가장 선능평가 수치가 좋습니다.\n",
    "Baseline이라는 의미는 각 개인이 평점을 부여하는 성향을 반영해 평점을 계산하는 방식을 말합니다."
   ]
  },
  {
   "cell_type": "markdown",
   "id": "c7a99112",
   "metadata": {},
   "source": [
    "## Baseline평점\n",
    "베이스라인 평점은 개인의 성향을 반영해 아이템 평가에 편향성 요소를 반영하여 평점을 부과하는 것입니다.\n",
    "보통 전체 평균 평점 + 사용자 편향 점수 + 아이템 편향 점수 공식으로 계산됩니다.\n",
    "\n",
    "전체 평균 평점 = 모든 사용자의 아이템에 대한 평점을 평균한 값\n",
    "사용자 편향 점수 = 사용자별 아이템 평점 평균 값 - 전체 평균 평점\n",
    "아이템 편향 점수 = 아이템별 평점 평균 값 - 전체 평균 평점"
   ]
  },
  {
   "cell_type": "markdown",
   "id": "e26941a4",
   "metadata": {},
   "source": [
    "## 교차 검증과 하이퍼 파라미터 튜닝\n",
    "교차검증과 하이퍼 파라미터 튜닝을 위해 cross_validate()와 GridSearchCV클래스를 제공합니다. 먼저 cross_validate()는 인자로 알고리즘 객체, 데이터, 성능 평가 방법, 폴드 데이터 세트 개수(cv)를 입력합니다."
   ]
  },
  {
   "cell_type": "code",
   "execution_count": 13,
   "id": "7f3ec903",
   "metadata": {},
   "outputs": [
    {
     "name": "stdout",
     "output_type": "stream",
     "text": [
      "Evaluating RMSE, MAE of algorithm SVD on 5 split(s).\n",
      "\n",
      "                  Fold 1  Fold 2  Fold 3  Fold 4  Fold 5  Mean    Std     \n",
      "RMSE (testset)    0.8921  0.8933  0.9007  0.8894  0.8883  0.8928  0.0044  \n",
      "MAE (testset)     0.6860  0.6876  0.6912  0.6860  0.6849  0.6871  0.0022  \n",
      "Fit time          0.84    0.82    0.81    0.79    0.79    0.81    0.02    \n",
      "Test time         0.30    0.12    0.12    0.27    0.13    0.19    0.08    \n"
     ]
    },
    {
     "data": {
      "text/plain": [
       "{'test_rmse': array([0.89210069, 0.89327247, 0.90068642, 0.88935189, 0.88833858]),\n",
       " 'test_mae': array([0.68601049, 0.68758086, 0.6911832 , 0.68596558, 0.68487759]),\n",
       " 'fit_time': (0.8422880172729492,\n",
       "  0.8204176425933838,\n",
       "  0.805535078048706,\n",
       "  0.7914371490478516,\n",
       "  0.790593147277832),\n",
       " 'test_time': (0.3001992702484131,\n",
       "  0.12467336654663086,\n",
       "  0.12380146980285645,\n",
       "  0.26628708839416504,\n",
       "  0.12570428848266602)}"
      ]
     },
     "execution_count": 13,
     "metadata": {},
     "output_type": "execute_result"
    }
   ],
   "source": [
    "from surprise.model_selection import cross_validate\n",
    "\n",
    "#위에서 사용했던 data와 algo사용, MAE는 오차들의 절댓값의 평균을 구한다는 점에서 모든 examples에 대한 오차에 동일한 가중치를 부여,\n",
    "#RMSE는 각 example에 제곱을 취한 뒤 평균을 구하고 그것에 루트를 씌우면서 각 오차가 다른 가중치를 갖게 된다.\n",
    "#verbose는 학습진행상황을 보여주는 것에 대한 여부이다.\n",
    "cross_validate(algo, data, measures=['RMSE','MAE'], cv=5, verbose=True)"
   ]
  },
  {
   "cell_type": "code",
   "execution_count": 15,
   "id": "f1e2a788",
   "metadata": {},
   "outputs": [
    {
     "name": "stdout",
     "output_type": "stream",
     "text": [
      "0.8979861252486859\n",
      "{'n_epochs': 20, 'n_factors': 50}\n"
     ]
    }
   ],
   "source": [
    "#GridSearchCv클래스는 교차 검증을 통한 하이퍼 파라미터 최적화 수행, SVD의 경우 반복횟수를 지정하는 n_epochs와\n",
    "#잠재요인 크기를 지정하는 n_factors를 튜닝\n",
    "from surprise.model_selection import GridSearchCV\n",
    "\n",
    "#최적화할 파라미터를 딕셔너리 형태로 지정\n",
    "param_grid = {'n_epochs' : [20,40,60], 'n_factors' : [50,100,200]}\n",
    "\n",
    "gs = GridSearchCV(SVD, param_grid, measures=['RMSE', 'MAE'], cv=3)\n",
    "gs.fit(data)\n",
    "\n",
    "print(gs.best_score['rmse']) #최고 RMSE Evaluation점수\n",
    "print(gs.best_params['rmse']) #그때의 하이퍼 파라미터"
   ]
  },
  {
   "cell_type": "markdown",
   "id": "94cba3bd",
   "metadata": {},
   "source": [
    "이번엔 데이터를 학습데이터와 테스트 데이터로 분리하지 않고 전체를 학습 데이터로 사용하겠습니다. 이를 위해 DatasetAutoFolds클래스를 이용합니다."
   ]
  },
  {
   "cell_type": "code",
   "execution_count": 19,
   "id": "7192d91c",
   "metadata": {},
   "outputs": [],
   "source": [
    "from surprise.dataset import DatasetAutoFolds\n",
    "\n",
    "reader = Reader(line_format = 'user item rating timestamp', sep=',', rating_scale=(0.5,5))\n",
    "\n",
    "data_folds = DatasetAutoFolds(ratings_file='../DataSet/ratings_small/sup_ratings_small.csv', reader=reader)\n",
    "\n",
    "#전체 데이터를 학습 데이터로 생성\n",
    "trainset = data_folds.build_full_trainset()"
   ]
  },
  {
   "cell_type": "code",
   "execution_count": 20,
   "id": "5a0f206f",
   "metadata": {},
   "outputs": [
    {
     "data": {
      "text/plain": [
       "<surprise.prediction_algorithms.matrix_factorization.SVD at 0x1df2ce14910>"
      ]
     },
     "execution_count": 20,
     "metadata": {},
     "output_type": "execute_result"
    }
   ],
   "source": [
    "algo = SVD(n_epochs=20, n_factors=50, random_state=0)\n",
    "algo.fit(trainset)"
   ]
  },
  {
   "cell_type": "markdown",
   "id": "19de7049",
   "metadata": {},
   "source": [
    "특정 사용자에 영화를 추천하기 위해 아직 보지 않은 영화 목록을 확인해보겠습니다. 특정사용자는 userId=15 입니다. 15번유저가 아직 평점을 매기지 않은 영화를 movieId=8844로 선정한 뒤 예측 평점을 계산해보겠습니다."
   ]
  },
  {
   "cell_type": "code",
   "execution_count": 40,
   "id": "fee8caa5",
   "metadata": {},
   "outputs": [
    {
     "name": "stdout",
     "output_type": "stream",
     "text": [
      "   adult belongs_to_collection    budget  \\\n",
      "1  False                   NaN  65000000   \n",
      "\n",
      "                                              genres homepage    id  \\\n",
      "1  [{'id': 12, 'name': 'Adventure'}, {'id': 14, '...      NaN  8844   \n",
      "\n",
      "     imdb_id original_language original_title  \\\n",
      "1  tt0113497                en        Jumanji   \n",
      "\n",
      "                                            overview  ... release_date  \\\n",
      "1  When siblings Judy and Peter discover an encha...  ...   1995-12-15   \n",
      "\n",
      "       revenue runtime                                   spoken_languages  \\\n",
      "1  262797249.0   104.0  [{'iso_639_1': 'en', 'name': 'English'}, {'iso...   \n",
      "\n",
      "     status                                    tagline    title  video  \\\n",
      "1  Released  Roll the dice and unleash the excitement!  Jumanji  False   \n",
      "\n",
      "  vote_average vote_count  \n",
      "1          6.9     2413.0  \n",
      "\n",
      "[1 rows x 24 columns]\n"
     ]
    }
   ],
   "source": [
    "#영화 데이터 로딩\n",
    "movies = pd.read_csv('../DataSet/movies_metadata/movies_metadata.csv', low_memory=False)\n",
    "\n",
    "print(movies.loc[movies['id']=='8844'])"
   ]
  },
  {
   "cell_type": "code",
   "execution_count": 44,
   "id": "f45fe56e",
   "metadata": {},
   "outputs": [
    {
     "name": "stdout",
     "output_type": "stream",
     "text": [
      "사용자 아이디 15는 영화 아이디 8844의 평점 없음\n",
      "   adult belongs_to_collection    budget  \\\n",
      "1  False                   NaN  65000000   \n",
      "\n",
      "                                              genres homepage    id  \\\n",
      "1  [{'id': 12, 'name': 'Adventure'}, {'id': 14, '...      NaN  8844   \n",
      "\n",
      "     imdb_id original_language original_title  \\\n",
      "1  tt0113497                en        Jumanji   \n",
      "\n",
      "                                            overview  ... release_date  \\\n",
      "1  When siblings Judy and Peter discover an encha...  ...   1995-12-15   \n",
      "\n",
      "       revenue runtime                                   spoken_languages  \\\n",
      "1  262797249.0   104.0  [{'iso_639_1': 'en', 'name': 'English'}, {'iso...   \n",
      "\n",
      "     status                                    tagline    title  video  \\\n",
      "1  Released  Roll the dice and unleash the excitement!  Jumanji  False   \n",
      "\n",
      "  vote_average vote_count  \n",
      "1          6.9     2413.0  \n",
      "\n",
      "[1 rows x 24 columns]\n"
     ]
    }
   ],
   "source": [
    "#15번 유저의 movieId데이터를 추출해서 movieId=8844데이터가 있는지 확인\n",
    "movieIds = ratings[ratings['userId']==9]['movieId']\n",
    "if movieIds[movieIds==8844].count()==0 :\n",
    "    print('사용자 아이디 15는 영화 아이디 8844의 평점 없음')\n",
    "    \n",
    "print(movies[movies['id']=='8844'])"
   ]
  },
  {
   "cell_type": "code",
   "execution_count": 42,
   "id": "fa7734e1",
   "metadata": {},
   "outputs": [
    {
     "name": "stdout",
     "output_type": "stream",
     "text": [
      "user: 15         item: 8844       r_ui = None   est = 2.34   {'was_impossible': False}\n"
     ]
    }
   ],
   "source": [
    "#predict()메서드를 이용해서 추천 예상평점 알아보기\n",
    "uid=str(15)\n",
    "iid=str(8844)\n",
    "\n",
    "pred=algo.predict(uid,iid,verbose=True)"
   ]
  },
  {
   "cell_type": "markdown",
   "id": "540edbaf",
   "metadata": {},
   "source": [
    "추천 예측 평점은 2.34입니다. 사용자가 평점을 매기지 않은 영화의 추천 예측 평점을 간단하게 구하는 방법을 알았으니 이제 사용자가 평점을 매기지 않은 전체 영화를 추출한 뒤에 예측 평점 순으로 영화를 추천해보겠습니다. "
   ]
  },
  {
   "cell_type": "code",
   "execution_count": 46,
   "id": "4f8c5abb",
   "metadata": {},
   "outputs": [
    {
     "name": "stdout",
     "output_type": "stream",
     "text": [
      "평점 매긴 영화 수 :  1700 추천 대상 영화 수 :  45466 전체 영화 수 :  45466\n"
     ]
    }
   ],
   "source": [
    "def get_unseen_surprise(ratings,movies,userId) :\n",
    "    #입력 값으로 들어온 userId에 해당하는 사용자가 평점을 매긴 모든 영화를 리스트로 생성\n",
    "    seen_movies = ratings[ratings['userId']==userId]['movieId'].tolist()\n",
    "    \n",
    "    #모든 영화의 movieId를 리스트로 생성\n",
    "    total_movies = movies['id'].tolist()\n",
    "    \n",
    "    #모든 영화의 movieId중 이미 평점을 매긴 영화의 movieId를 제외한 후 리스트로 생성\n",
    "    unseen_movies=[movie for movie in total_movies if movie not in seen_movies]\n",
    "    print('평점 매긴 영화 수 : ', len(seen_movies), '추천 대상 영화 수 : ', len(unseen_movies), '전체 영화 수 : ', len(total_movies))\n",
    "    \n",
    "    return unseen_movies\n",
    "\n",
    "unseen_movies = get_unseen_surprise(ratings,movies,15)"
   ]
  },
  {
   "cell_type": "markdown",
   "id": "e0a31153",
   "metadata": {},
   "source": [
    "recomm함수 테스트중"
   ]
  },
  {
   "cell_type": "code",
   "execution_count": 61,
   "id": "1984f757",
   "metadata": {},
   "outputs": [],
   "source": [
    "predictions = [algo.predict(str(ratings['userId']), str(ratings['movieId'])) for movieId in unseen_movies]"
   ]
  },
  {
   "cell_type": "code",
   "execution_count": 69,
   "id": "09aeb08b",
   "metadata": {},
   "outputs": [
    {
     "data": {
      "text/plain": [
       "[Prediction(uid='0           1\\n1           1\\n2           1\\n3           1\\n4           1\\n         ... \\n99999     671\\n100000    671\\n100001    671\\n100002    671\\n100003    671\\nName: userId, Length: 100004, dtype: int64', iid='0           31\\n1         1029\\n2         1061\\n3         1129\\n4         1172\\n          ... \\n99999     6268\\n100000    6269\\n100001    6365\\n100002    6385\\n100003    6565\\nName: movieId, Length: 100004, dtype: int64', r_ui=None, est=3.543608255669773, details={'was_impossible': False}),\n",
       " Prediction(uid='0           1\\n1           1\\n2           1\\n3           1\\n4           1\\n         ... \\n99999     671\\n100000    671\\n100001    671\\n100002    671\\n100003    671\\nName: userId, Length: 100004, dtype: int64', iid='0           31\\n1         1029\\n2         1061\\n3         1129\\n4         1172\\n          ... \\n99999     6268\\n100000    6269\\n100001    6365\\n100002    6385\\n100003    6565\\nName: movieId, Length: 100004, dtype: int64', r_ui=None, est=3.543608255669773, details={'was_impossible': False}),\n",
       " Prediction(uid='0           1\\n1           1\\n2           1\\n3           1\\n4           1\\n         ... \\n99999     671\\n100000    671\\n100001    671\\n100002    671\\n100003    671\\nName: userId, Length: 100004, dtype: int64', iid='0           31\\n1         1029\\n2         1061\\n3         1129\\n4         1172\\n          ... \\n99999     6268\\n100000    6269\\n100001    6365\\n100002    6385\\n100003    6565\\nName: movieId, Length: 100004, dtype: int64', r_ui=None, est=3.543608255669773, details={'was_impossible': False}),\n",
       " Prediction(uid='0           1\\n1           1\\n2           1\\n3           1\\n4           1\\n         ... \\n99999     671\\n100000    671\\n100001    671\\n100002    671\\n100003    671\\nName: userId, Length: 100004, dtype: int64', iid='0           31\\n1         1029\\n2         1061\\n3         1129\\n4         1172\\n          ... \\n99999     6268\\n100000    6269\\n100001    6365\\n100002    6385\\n100003    6565\\nName: movieId, Length: 100004, dtype: int64', r_ui=None, est=3.543608255669773, details={'was_impossible': False}),\n",
       " Prediction(uid='0           1\\n1           1\\n2           1\\n3           1\\n4           1\\n         ... \\n99999     671\\n100000    671\\n100001    671\\n100002    671\\n100003    671\\nName: userId, Length: 100004, dtype: int64', iid='0           31\\n1         1029\\n2         1061\\n3         1129\\n4         1172\\n          ... \\n99999     6268\\n100000    6269\\n100001    6365\\n100002    6385\\n100003    6565\\nName: movieId, Length: 100004, dtype: int64', r_ui=None, est=3.543608255669773, details={'was_impossible': False}),\n",
       " Prediction(uid='0           1\\n1           1\\n2           1\\n3           1\\n4           1\\n         ... \\n99999     671\\n100000    671\\n100001    671\\n100002    671\\n100003    671\\nName: userId, Length: 100004, dtype: int64', iid='0           31\\n1         1029\\n2         1061\\n3         1129\\n4         1172\\n          ... \\n99999     6268\\n100000    6269\\n100001    6365\\n100002    6385\\n100003    6565\\nName: movieId, Length: 100004, dtype: int64', r_ui=None, est=3.543608255669773, details={'was_impossible': False}),\n",
       " Prediction(uid='0           1\\n1           1\\n2           1\\n3           1\\n4           1\\n         ... \\n99999     671\\n100000    671\\n100001    671\\n100002    671\\n100003    671\\nName: userId, Length: 100004, dtype: int64', iid='0           31\\n1         1029\\n2         1061\\n3         1129\\n4         1172\\n          ... \\n99999     6268\\n100000    6269\\n100001    6365\\n100002    6385\\n100003    6565\\nName: movieId, Length: 100004, dtype: int64', r_ui=None, est=3.543608255669773, details={'was_impossible': False}),\n",
       " Prediction(uid='0           1\\n1           1\\n2           1\\n3           1\\n4           1\\n         ... \\n99999     671\\n100000    671\\n100001    671\\n100002    671\\n100003    671\\nName: userId, Length: 100004, dtype: int64', iid='0           31\\n1         1029\\n2         1061\\n3         1129\\n4         1172\\n          ... \\n99999     6268\\n100000    6269\\n100001    6365\\n100002    6385\\n100003    6565\\nName: movieId, Length: 100004, dtype: int64', r_ui=None, est=3.543608255669773, details={'was_impossible': False}),\n",
       " Prediction(uid='0           1\\n1           1\\n2           1\\n3           1\\n4           1\\n         ... \\n99999     671\\n100000    671\\n100001    671\\n100002    671\\n100003    671\\nName: userId, Length: 100004, dtype: int64', iid='0           31\\n1         1029\\n2         1061\\n3         1129\\n4         1172\\n          ... \\n99999     6268\\n100000    6269\\n100001    6365\\n100002    6385\\n100003    6565\\nName: movieId, Length: 100004, dtype: int64', r_ui=None, est=3.543608255669773, details={'was_impossible': False}),\n",
       " Prediction(uid='0           1\\n1           1\\n2           1\\n3           1\\n4           1\\n         ... \\n99999     671\\n100000    671\\n100001    671\\n100002    671\\n100003    671\\nName: userId, Length: 100004, dtype: int64', iid='0           31\\n1         1029\\n2         1061\\n3         1129\\n4         1172\\n          ... \\n99999     6268\\n100000    6269\\n100001    6365\\n100002    6385\\n100003    6565\\nName: movieId, Length: 100004, dtype: int64', r_ui=None, est=3.543608255669773, details={'was_impossible': False})]"
      ]
     },
     "execution_count": 69,
     "metadata": {},
     "output_type": "execute_result"
    }
   ],
   "source": [
    "predictions[:10]"
   ]
  },
  {
   "cell_type": "code",
   "execution_count": 65,
   "id": "f2341aa6",
   "metadata": {},
   "outputs": [],
   "source": [
    "def sortkey_est(pred):\n",
    "    return pred.est\n",
    "\n",
    "predictions.sort(key=sortkey_est, reverse=True) #정렬도 안되는데\n",
    "top_predictions=predictions[:10]"
   ]
  },
  {
   "cell_type": "code",
   "execution_count": 66,
   "id": "8e8c75f3",
   "metadata": {},
   "outputs": [
    {
     "data": {
      "text/plain": [
       "[Prediction(uid='0           1\\n1           1\\n2           1\\n3           1\\n4           1\\n         ... \\n99999     671\\n100000    671\\n100001    671\\n100002    671\\n100003    671\\nName: userId, Length: 100004, dtype: int64', iid='0           31\\n1         1029\\n2         1061\\n3         1129\\n4         1172\\n          ... \\n99999     6268\\n100000    6269\\n100001    6365\\n100002    6385\\n100003    6565\\nName: movieId, Length: 100004, dtype: int64', r_ui=None, est=3.543608255669773, details={'was_impossible': False}),\n",
       " Prediction(uid='0           1\\n1           1\\n2           1\\n3           1\\n4           1\\n         ... \\n99999     671\\n100000    671\\n100001    671\\n100002    671\\n100003    671\\nName: userId, Length: 100004, dtype: int64', iid='0           31\\n1         1029\\n2         1061\\n3         1129\\n4         1172\\n          ... \\n99999     6268\\n100000    6269\\n100001    6365\\n100002    6385\\n100003    6565\\nName: movieId, Length: 100004, dtype: int64', r_ui=None, est=3.543608255669773, details={'was_impossible': False}),\n",
       " Prediction(uid='0           1\\n1           1\\n2           1\\n3           1\\n4           1\\n         ... \\n99999     671\\n100000    671\\n100001    671\\n100002    671\\n100003    671\\nName: userId, Length: 100004, dtype: int64', iid='0           31\\n1         1029\\n2         1061\\n3         1129\\n4         1172\\n          ... \\n99999     6268\\n100000    6269\\n100001    6365\\n100002    6385\\n100003    6565\\nName: movieId, Length: 100004, dtype: int64', r_ui=None, est=3.543608255669773, details={'was_impossible': False}),\n",
       " Prediction(uid='0           1\\n1           1\\n2           1\\n3           1\\n4           1\\n         ... \\n99999     671\\n100000    671\\n100001    671\\n100002    671\\n100003    671\\nName: userId, Length: 100004, dtype: int64', iid='0           31\\n1         1029\\n2         1061\\n3         1129\\n4         1172\\n          ... \\n99999     6268\\n100000    6269\\n100001    6365\\n100002    6385\\n100003    6565\\nName: movieId, Length: 100004, dtype: int64', r_ui=None, est=3.543608255669773, details={'was_impossible': False}),\n",
       " Prediction(uid='0           1\\n1           1\\n2           1\\n3           1\\n4           1\\n         ... \\n99999     671\\n100000    671\\n100001    671\\n100002    671\\n100003    671\\nName: userId, Length: 100004, dtype: int64', iid='0           31\\n1         1029\\n2         1061\\n3         1129\\n4         1172\\n          ... \\n99999     6268\\n100000    6269\\n100001    6365\\n100002    6385\\n100003    6565\\nName: movieId, Length: 100004, dtype: int64', r_ui=None, est=3.543608255669773, details={'was_impossible': False}),\n",
       " Prediction(uid='0           1\\n1           1\\n2           1\\n3           1\\n4           1\\n         ... \\n99999     671\\n100000    671\\n100001    671\\n100002    671\\n100003    671\\nName: userId, Length: 100004, dtype: int64', iid='0           31\\n1         1029\\n2         1061\\n3         1129\\n4         1172\\n          ... \\n99999     6268\\n100000    6269\\n100001    6365\\n100002    6385\\n100003    6565\\nName: movieId, Length: 100004, dtype: int64', r_ui=None, est=3.543608255669773, details={'was_impossible': False}),\n",
       " Prediction(uid='0           1\\n1           1\\n2           1\\n3           1\\n4           1\\n         ... \\n99999     671\\n100000    671\\n100001    671\\n100002    671\\n100003    671\\nName: userId, Length: 100004, dtype: int64', iid='0           31\\n1         1029\\n2         1061\\n3         1129\\n4         1172\\n          ... \\n99999     6268\\n100000    6269\\n100001    6365\\n100002    6385\\n100003    6565\\nName: movieId, Length: 100004, dtype: int64', r_ui=None, est=3.543608255669773, details={'was_impossible': False}),\n",
       " Prediction(uid='0           1\\n1           1\\n2           1\\n3           1\\n4           1\\n         ... \\n99999     671\\n100000    671\\n100001    671\\n100002    671\\n100003    671\\nName: userId, Length: 100004, dtype: int64', iid='0           31\\n1         1029\\n2         1061\\n3         1129\\n4         1172\\n          ... \\n99999     6268\\n100000    6269\\n100001    6365\\n100002    6385\\n100003    6565\\nName: movieId, Length: 100004, dtype: int64', r_ui=None, est=3.543608255669773, details={'was_impossible': False}),\n",
       " Prediction(uid='0           1\\n1           1\\n2           1\\n3           1\\n4           1\\n         ... \\n99999     671\\n100000    671\\n100001    671\\n100002    671\\n100003    671\\nName: userId, Length: 100004, dtype: int64', iid='0           31\\n1         1029\\n2         1061\\n3         1129\\n4         1172\\n          ... \\n99999     6268\\n100000    6269\\n100001    6365\\n100002    6385\\n100003    6565\\nName: movieId, Length: 100004, dtype: int64', r_ui=None, est=3.543608255669773, details={'was_impossible': False}),\n",
       " Prediction(uid='0           1\\n1           1\\n2           1\\n3           1\\n4           1\\n         ... \\n99999     671\\n100000    671\\n100001    671\\n100002    671\\n100003    671\\nName: userId, Length: 100004, dtype: int64', iid='0           31\\n1         1029\\n2         1061\\n3         1129\\n4         1172\\n          ... \\n99999     6268\\n100000    6269\\n100001    6365\\n100002    6385\\n100003    6565\\nName: movieId, Length: 100004, dtype: int64', r_ui=None, est=3.543608255669773, details={'was_impossible': False})]"
      ]
     },
     "execution_count": 66,
     "metadata": {},
     "output_type": "execute_result"
    }
   ],
   "source": [
    "top_predictions"
   ]
  },
  {
   "cell_type": "code",
   "execution_count": 88,
   "id": "e07a0b7e",
   "metadata": {},
   "outputs": [],
   "source": [
    "x = pred.iid\n",
    "x = float(x)\n",
    "x = int(x)\n",
    "top_movie_ids = [int(x) for pred in top_predictions]\n",
    "top_movie_rating = [pred.est for pred in top_predictions]\n",
    "top_movie_titles = movies[movies.id.isin(top_movie_ids)]['title']"
   ]
  },
  {
   "cell_type": "code",
   "execution_count": 74,
   "id": "9dad0157",
   "metadata": {},
   "outputs": [],
   "source": [
    "top_movie_preds = [ (id,title,rating) for id,title,rating in zip(top_movie_ids, top_movie_titles, top_movie_rating)]"
   ]
  },
  {
   "cell_type": "code",
   "execution_count": 85,
   "id": "4e885bb9",
   "metadata": {},
   "outputs": [
    {
     "data": {
      "text/plain": [
       "Series([], Name: title, dtype: object)"
      ]
     },
     "execution_count": 85,
     "metadata": {},
     "output_type": "execute_result"
    }
   ],
   "source": [
    "top_movie_titles #아마 movies에서는 id값들이 전부 str형이라서 그런듯 근데 int형 정수를 넣어주니까 안돌아가는듯"
   ]
  },
  {
   "cell_type": "code",
   "execution_count": 87,
   "id": "3eb8f415",
   "metadata": {},
   "outputs": [
    {
     "data": {
      "text/plain": [
       "[3.543608255669773,\n",
       " 3.543608255669773,\n",
       " 3.543608255669773,\n",
       " 3.543608255669773,\n",
       " 3.543608255669773,\n",
       " 3.543608255669773,\n",
       " 3.543608255669773,\n",
       " 3.543608255669773,\n",
       " 3.543608255669773,\n",
       " 3.543608255669773]"
      ]
     },
     "execution_count": 87,
     "metadata": {},
     "output_type": "execute_result"
    }
   ],
   "source": [
    "top_movie_rating"
   ]
  },
  {
   "cell_type": "code",
   "execution_count": 89,
   "id": "332a20ea",
   "metadata": {},
   "outputs": [
    {
     "data": {
      "text/plain": [
       "[8844, 8844, 8844, 8844, 8844, 8844, 8844, 8844, 8844, 8844]"
      ]
     },
     "execution_count": 89,
     "metadata": {},
     "output_type": "execute_result"
    }
   ],
   "source": [
    "top_movie_ids #값 복사까지??"
   ]
  },
  {
   "cell_type": "markdown",
   "id": "dbc21504",
   "metadata": {},
   "source": [
    "recomm함수 테스트 종료 결과값 확인"
   ]
  },
  {
   "cell_type": "code",
   "execution_count": 55,
   "id": "36df99f0",
   "metadata": {},
   "outputs": [],
   "source": [
    "#SVD를 이용해 높은 예측 평점을 가진 순으로 영화를 추천하는 함수\n",
    "def recomm_movie_by_surprise(algo, userId, unseen_movies, top_n=10):\n",
    "    \n",
    "    #알고리즘 객체의 predict()메서드를 평점이 없는 영화에 반복 수행한 결과를 list객체로 저장\n",
    "    predictions = [algo.predict(str(userId), str(movieId)) for movieId in unseen_movies]\n",
    "    \n",
    "    #predictions list 객체는 surprise의 Predictions객체를 원소로 갖고 있음\n",
    "    # [Prediction(uid='15', iid='1', est=2.34), Prediction(uid='15', iid='2', est)....]\n",
    "    \n",
    "    #이를 est값으로 정렬하기 위해서 아래의 sortkey_est함수를 정의함\n",
    "    #sortkey_est함수는 list객체의 sort()함수의 키 값으로 사용되어 정렬 수행\n",
    "    def sortkey_est(pred):\n",
    "        return pred.est\n",
    "    \n",
    "    #sortkey_est() 반환 값의 내림 차순으로 정렬 수행하고 top_n개의 최상위 값 추출\n",
    "    predictions.sort(key=sortkey_est, reverse=True)\n",
    "    top_predictions=predictions[:top_n]\n",
    "    \n",
    "    #top_n으로 추출된 영화의 정보추출. 영화 아이디, 추천예상평점, 제목 추출\n",
    "    top_movie_ids = [int(pred.iid) for pred in top_predictions]\n",
    "    top_movie_rating = [pred.est for pred in top_predictions]\n",
    "    top_movie_titles = movies[movies.id.isin(top_movie_ids)]['original_title']\n",
    "    \n",
    "    top_movie_preds = [ (id,title,rating) for id,title,rating in zip(top_movie_ids, top_movie_titles, top_movie_rating)]\n",
    "    \n",
    "    return top_movie_preds"
   ]
  },
  {
   "cell_type": "code",
   "execution_count": 56,
   "id": "0bd36997",
   "metadata": {},
   "outputs": [
    {
     "name": "stdout",
     "output_type": "stream",
     "text": [
      "평점 매긴 영화 수 :  1700 추천 대상 영화 수 :  45466 전체 영화 수 :  45466\n"
     ]
    }
   ],
   "source": [
    "unseen_movies = get_unseen_surprise(ratings, movies, 15)"
   ]
  },
  {
   "cell_type": "code",
   "execution_count": 57,
   "id": "d477c822",
   "metadata": {},
   "outputs": [
    {
     "name": "stdout",
     "output_type": "stream",
     "text": [
      "[]\n",
      "#### Top-10 추천 영화 리스트 ####\n"
     ]
    }
   ],
   "source": [
    "top_movie_preds = recomm_movie_by_surprise(algo,15,unseen_movies,top_n=10)\n",
    "print(top_movie_preds)\n",
    "\n",
    "print('#### Top-10 추천 영화 리스트 ####')\n",
    "for top_movie in top_movie_preds:\n",
    "    print(top_movie[1], \":\", top_movie[2])"
   ]
  }
 ],
 "metadata": {
  "kernelspec": {
   "display_name": "Python 3 (ipykernel)",
   "language": "python",
   "name": "python3"
  },
  "language_info": {
   "codemirror_mode": {
    "name": "ipython",
    "version": 3
   },
   "file_extension": ".py",
   "mimetype": "text/x-python",
   "name": "python",
   "nbconvert_exporter": "python",
   "pygments_lexer": "ipython3",
   "version": "3.9.12"
  }
 },
 "nbformat": 4,
 "nbformat_minor": 5
}
